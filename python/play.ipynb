{
 "cells": [
  {
   "cell_type": "code",
   "execution_count": null,
   "metadata": {},
   "outputs": [],
   "source": [
    "import branch_length\n",
    "import distributions\n",
    "import optimizers\n",
    "import sbn\n",
    "\n",
    "import altair as alt\n",
    "import numpy as np\n",
    "import pandas as pd\n",
    "import scipy.stats as stats\n",
    "\n",
    "alt.renderers.enable(\"notebook\")\n",
    "\n",
    "import importlib \n",
    "importlib.reload(branch_length)\n",
    "importlib.reload(distributions)\n",
    "importlib.reload(optimizers)"
   ]
  },
  {
   "cell_type": "code",
   "execution_count": null,
   "metadata": {},
   "outputs": [],
   "source": [
    "inst = sbn.instance(\"charlie\")\n",
    "inst.tree_collection = sbn.TreeCollection(\n",
    "    [sbn.Tree.of_parent_id_vector([3, 3, 3])],\n",
    "    [\"mars\", \"saturn\", \"jupiter\"])\n",
    "inst.read_fasta_file('../data/hello.fasta')\n",
    "inst.make_beagle_instances(2)\n",
    "branch_lengths = np.array(inst.tree_collection.trees[0].branch_lengths,\n",
    "                          copy=False)\n",
    "branch_lengths[:] = np.array([0.1, 0.1, 0.3, 0.])"
   ]
  },
  {
   "cell_type": "code",
   "execution_count": null,
   "metadata": {},
   "outputs": [],
   "source": [
    "def log_like_with(branch_id: int, branch_length: float, grad=False):\n",
    "    saved_branch_length = branch_lengths[branch_id]\n",
    "    branch_lengths[branch_id] = branch_length\n",
    "    if grad:\n",
    "        _, log_grad = inst.branch_gradients()[0]\n",
    "        result = np.array(log_grad)[branch_id]\n",
    "    else:\n",
    "        result = np.array(inst.log_likelihoods())[0]\n",
    "    branch_lengths[branch_id] = saved_branch_length\n",
    "    return result\n",
    "\n",
    "x_vals = np.linspace(0, 0.3, 100)\n",
    "df = pd.DataFrame({\"x\": x_vals, \"y\": [log_like_with(2, x) for x in x_vals]})\n",
    "alt.Chart(df).mark_line().encode(\n",
    "        alt.X(\"x\"),\n",
    "        alt.Y(\"y\", scale=alt.Scale(zero=False))\n",
    "    )\n",
    "\n",
    "def phylo_log_like(x_arr):\n",
    "    return np.array([log_like_with(2, x) for x in x_arr])\n",
    "\n",
    "def phylo_log_like_grad(x_arr):\n",
    "    return np.array([[log_like_with(2, x, grad=True)] for x in x_arr])"
   ]
  },
  {
   "cell_type": "code",
   "execution_count": null,
   "metadata": {},
   "outputs": [],
   "source": [
    "# Fake \"phylogenetic\" distributions.\n",
    "if False:\n",
    "    d = distributions.LogNormal(1)\n",
    "    true_loc = np.array([-2.3])\n",
    "    true_shape = np.array([-0.6])\n",
    "    phylo_log_like = lambda x: d.log_prob(x, true_loc, true_shape)\n",
    "    phylo_log_like_grad = lambda x: d.log_prob_grad(x, true_loc, true_shape)\n",
    "if True:\n",
    "    d = distributions.Gamma(1)\n",
    "    alpha = np.array([2.])\n",
    "    beta = np.array([5.])\n",
    "    phylo_log_like = lambda x: d.log_prob(x, alpha, beta)\n",
    "    phylo_log_like_grad = lambda x: d.log_prob_grad(x, alpha, beta) * np.exp(x)"
   ]
  },
  {
   "cell_type": "code",
   "execution_count": null,
   "metadata": {},
   "outputs": [],
   "source": [
    "# These are values for plotting and for calculating KL divergence.\n",
    "x_vals = np.linspace(0.01, 0.7, 100)\n",
    "x_vals_transpose = np.transpose(np.array([x_vals]))\n",
    "\n",
    "transforms = {\n",
    "    \"identity\": lambda x: x,\n",
    "    \"normalize\": lambda x: x / np.sum(x),\n",
    "    \"exp\": lambda x: np.exp(x),\n",
    "    \"exp_normalize\": lambda x: np.exp(x) / sum(np.exp(x))\n",
    "}\n",
    "\n",
    "def plot_functions(f_true, f_approx, transform=\"identity\"):\n",
    "    transform = transforms[transform]\n",
    "    data = pd.DataFrame({\"x\": x_vals, \"truth\": transform(f_true(x_vals_transpose)), \n",
    "                         \"approx\": transform(f_approx(x_vals_transpose))})\n",
    "    return alt.Chart(data.melt(id_vars=[\"x\"])).mark_line().encode(\n",
    "        x='x',\n",
    "        y='value',\n",
    "        color='variable'\n",
    "    )\n",
    "\n",
    "def kl_div(f_true, f_approx, transform=\"identity\"):\n",
    "    transform = transforms[transform]\n",
    "    f_approx_trans = lambda x: transform(f_approx(x))\n",
    "    f_true_trans = lambda x: transform(f_true(x))\n",
    "    return {\n",
    "        \"standard\": stats.entropy(f_true_trans(x_vals_transpose), f_approx_trans(x_vals_transpose)),\n",
    "        \"reversed\": stats.entropy(f_approx_trans(x_vals_transpose), f_true_trans(x_vals_transpose))}"
   ]
  },
  {
   "cell_type": "code",
   "execution_count": null,
   "metadata": {},
   "outputs": [],
   "source": [
    "branch_length_param_count = 1\n",
    "sgd_server_args = {'loc': branch_length_param_count, 'shape': branch_length_param_count}\n",
    "infer_opt = optimizers.SGD_Server(sgd_server_args)\n",
    "stepsz = 0.01\n",
    "clip = 100.\n",
    "anneal_freq = 50\n",
    "anneal_rate = 0.95\n",
    "\n",
    "# Variational distribution\n",
    "q = distributions.LogNormal(1)\n",
    "loc = np.array([1.])\n",
    "shape = np.array([0.5])\n",
    "q_log_like = lambda x: q.log_prob(x, loc, shape)"
   ]
  },
  {
   "cell_type": "code",
   "execution_count": null,
   "metadata": {},
   "outputs": [],
   "source": [
    "def gradient_step(sample_count):\n",
    "    global loc, shape\n",
    "    x = q.sample(loc, shape, sample_count)\n",
    "    weights = branch_length.like_weights(q, phylo_log_like(x), x, loc, shape, clip)\n",
    "    loc_grad, shape_grad = branch_length.param_grad(q, weights, phylo_log_like_grad(x), x, loc, shape)\n",
    "    if clip:\n",
    "        loc_grad = np.clip(loc_grad, -clip, clip)\n",
    "        shape_grad = np.clip(shape_grad, -clip, clip)\n",
    "    update_dict = infer_opt.adam(stepsz_dict, {'loc': loc, 'shape': shape}, \n",
    "                                 {'loc': loc_grad, 'shape': shape_grad})\n",
    "    loc += update_dict['loc']\n",
    "    shape += update_dict['shape']\n",
    "    return kl_div(phylo_log_like, q_log_like, transform=\"exp_normalize\")"
   ]
  },
  {
   "cell_type": "code",
   "execution_count": null,
   "metadata": {},
   "outputs": [],
   "source": [
    "# Re-initialize the SGD server.\n",
    "infer_opt.__init__(sgd_server_args)\n",
    "stepsz_dict = {'loc': stepsz, 'shape': stepsz}\n",
    "loc = np.array([-1.])\n",
    "shape = np.array([1.])\n",
    "results = [kl_div(phylo_log_like, q_log_like, transform=\"exp_normalize\")]\n",
    "\n",
    "for i in range(10):\n",
    "    results.append(gradient_step(1))\n",
    "    if i % anneal_freq == 0:\n",
    "        for k in stepsz_dict:\n",
    "            stepsz_dict[k] *= anneal_rate\n",
    "\n",
    "\n",
    "plot_data = pd.DataFrame(results).reset_index()\n",
    "    \n",
    "alt.Chart(\n",
    "    pd.melt(plot_data, id_vars=[\"index\"], var_name=\"variant\", value_name=\"KL divergence\")\n",
    "    ).mark_line().encode(\n",
    "        alt.X(\"index\"),\n",
    "        alt.Y(\"KL divergence\",\n",
    "              scale=alt.Scale()),\n",
    "        color=\"variant\"\n",
    "    )"
   ]
  },
  {
   "cell_type": "code",
   "execution_count": null,
   "metadata": {},
   "outputs": [],
   "source": [
    "plot_functions(phylo_log_like, q_log_like, transform=\"exp_normalize\")"
   ]
  },
  {
   "cell_type": "code",
   "execution_count": null,
   "metadata": {},
   "outputs": [],
   "source": [
    "loc"
   ]
  },
  {
   "cell_type": "code",
   "execution_count": null,
   "metadata": {},
   "outputs": [],
   "source": [
    "shape"
   ]
  }
 ],
 "metadata": {
  "kernelspec": {
   "display_name": "Python 3",
   "language": "python",
   "name": "python3"
  },
  "language_info": {
   "codemirror_mode": {
    "name": "ipython",
    "version": 3
   },
   "file_extension": ".py",
   "mimetype": "text/x-python",
   "name": "python",
   "nbconvert_exporter": "python",
   "pygments_lexer": "ipython3",
   "version": "3.7.3"
  }
 },
 "nbformat": 4,
 "nbformat_minor": 2
}
