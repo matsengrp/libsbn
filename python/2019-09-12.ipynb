{
 "cells": [
  {
   "cell_type": "code",
   "execution_count": null,
   "metadata": {},
   "outputs": [],
   "source": [
    "import numpy as np\n",
    "import tensorflow as tf\n",
    "import tensorflow_probability as tfp\n",
    "tfd = tfp.distributions\n",
    "tf.enable_eager_execution()"
   ]
  },
  {
   "cell_type": "code",
   "execution_count": null,
   "metadata": {},
   "outputs": [],
   "source": [
    "import altair as alt\n",
    "import pandas as pd\n",
    "%matplotlib inline\n",
    "\n",
    "alt.renderers.enable(\"notebook\")"
   ]
  },
  {
   "cell_type": "code",
   "execution_count": null,
   "metadata": {},
   "outputs": [],
   "source": [
    "alpha = 2.\n",
    "beta = 5.\n",
    "gamma = tfp.distributions.Gamma(concentration=alpha, rate=beta)\n",
    "lognormal = tfp.distributions.LogNormal(loc=-1.6, scale=1.1)\n",
    "\n",
    "x = np.linspace(0.01, 0.6)\n",
    "df = pd.DataFrame({\"x\": x, \"gamma\": gamma.prob(x).numpy(), \"lognormal\": lognormal.prob(x).numpy()})\n",
    "df.plot(x=\"x\", y=[\"gamma\", \"lognormal\"], kind=\"line\")\n"
   ]
  },
  {
   "cell_type": "code",
   "execution_count": null,
   "metadata": {},
   "outputs": [],
   "source": [
    "def tf_lognormal_multi_elbo_grad(loc, shape, true_distribution, particle_count = 100):\n",
    "    # A variety of epsilons.\n",
    "    epsilon = tf.constant(np.random.normal(0., 1., particle_count).astype(np.float32))\n",
    "    with tf.GradientTape() as g:\n",
    "        tf_loc = tf.constant(loc)\n",
    "        tf_scale = tf.constant(shape)\n",
    "        g.watch(tf_loc)\n",
    "        g.watch(tf_scale)\n",
    "        tf_x = tf.math.exp(tf_loc + tf_scale * epsilon)\n",
    "        # This is the log of the full sum of ratios as in the equation just before (7)\n",
    "        # in the 2018 ICLR paper.\n",
    "        y = tf.math.log(\n",
    "            # In principle we should have a 1/K term here, but it disappears in the log\n",
    "            # grad.\n",
    "            tf.math.reduce_sum(\n",
    "                true_distribution.prob(tf_x)\n",
    "                / tfp.distributions.LogNormal(loc=tf_loc, scale=tf_scale).prob(tf_x)\n",
    "            )\n",
    "        )\n",
    "        x_arr = np.array([tf_x.numpy()]).transpose()\n",
    "        tf_gradient = np.array([grad.numpy() for grad in g.gradient(y, [tf_loc, tf_scale])])\n",
    "    return tf_gradient\n",
    "\n",
    "def gradient_analysis(particle_count, gradient_count):\n",
    "    gradients = np.concatenate([\n",
    "        np.array([tf_lognormal_multi_elbo_grad(-1.6, 1.1, gamma, particle_count)]) for _ in range(gradient_count)])\n",
    "    gradients_df = pd.DataFrame(gradients, columns=[\"loc_grad\", \"scale_grad\"])\n",
    "\n",
    "    print(gradients_df.describe())\n",
    "    return alt.Chart(gradients_df).mark_bar().encode(\n",
    "        alt.X(\"loc_grad\", bin=alt.Bin(step=0.05)),\n",
    "        y='count()',\n",
    "    )"
   ]
  },
  {
   "cell_type": "code",
   "execution_count": null,
   "metadata": {},
   "outputs": [],
   "source": [
    "gradient_analysis(particle_count = 100, gradient_count = 1000)"
   ]
  },
  {
   "cell_type": "code",
   "execution_count": null,
   "metadata": {},
   "outputs": [],
   "source": [
    "gradient_analysis(particle_count = 1000, gradient_count = 1000)"
   ]
  },
  {
   "cell_type": "code",
   "execution_count": null,
   "metadata": {},
   "outputs": [],
   "source": []
  }
 ],
 "metadata": {
  "kernelspec": {
   "display_name": "Python 3",
   "language": "python",
   "name": "python3"
  },
  "language_info": {
   "codemirror_mode": {
    "name": "ipython",
    "version": 3
   },
   "file_extension": ".py",
   "mimetype": "text/x-python",
   "name": "python",
   "nbconvert_exporter": "python",
   "pygments_lexer": "ipython3",
   "version": "3.7.3"
  }
 },
 "nbformat": 4,
 "nbformat_minor": 2
}
