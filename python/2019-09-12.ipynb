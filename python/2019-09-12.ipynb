{
 "cells": [
  {
   "cell_type": "code",
   "execution_count": null,
   "metadata": {},
   "outputs": [],
   "source": [
    "import numpy as np\n",
    "import scipy\n",
    "import tensorflow as tf\n",
    "import tensorflow_probability as tfp\n",
    "tfd = tfp.distributions\n",
    "tf.enable_eager_execution()"
   ]
  },
  {
   "cell_type": "code",
   "execution_count": null,
   "metadata": {},
   "outputs": [],
   "source": [
    "import altair as alt\n",
    "alt.renderers.enable(\"notebook\")\n",
    "import pandas as pd\n",
    "%matplotlib inline\n",
    "%config InlineBackend.figure_formats = ['svg']"
   ]
  },
  {
   "cell_type": "code",
   "execution_count": null,
   "metadata": {},
   "outputs": [],
   "source": [
    "tfd.LogNormal(loc=3, scale=2).sample(4)"
   ]
  },
  {
   "cell_type": "code",
   "execution_count": null,
   "metadata": {},
   "outputs": [],
   "source": [
    "elbo(-0.6, 1.1)"
   ]
  },
  {
   "cell_type": "code",
   "execution_count": null,
   "metadata": {},
   "outputs": [],
   "source": [
    "elbo_grid(-0.6, 1.1)"
   ]
  },
  {
   "cell_type": "code",
   "execution_count": null,
   "metadata": {
    "scrolled": true
   },
   "outputs": [],
   "source": [
    "alpha = 2.\n",
    "beta = 5.\n",
    "gamma = tfd.Gamma(concentration=alpha, rate=beta)\n",
    "\n",
    "def elbo(loc, scale):\n",
    "    q_log_prob = tfd.LogNormal(loc=loc, scale=scale).log_prob(x_grid).numpy()\n",
    "    return np.sum(scipy.special.softmax(q_log_prob) * (gamma.log_prob(x_grid).numpy() - q_log_prob))\n",
    "\n",
    "def elbo_sample(loc, scale, sample_count = 100):\n",
    "    q_sample = tfd.LogNormal(loc=loc, scale=scale).sample(sample_count, dtype=tf.float32)\n",
    "    return (1/sample_count) * tf.reduce_sum(\n",
    "        gamma.log_prob(q_sample) - tfd.LogNormal(loc=loc, scale=scale).log_prob(q_sample)).numpy()\n",
    "\n",
    "x_grid = np.linspace(0.01, 4)\n",
    "\n",
    "def plot_fit(loc, scale):\n",
    "    df = pd.DataFrame({\n",
    "        \"x\": x_grid, \n",
    "        \"gamma\": gamma.prob(x_grid).numpy(), \n",
    "        \"lognormal\": tfd.LogNormal(loc=loc, scale=scale).prob(x_grid).numpy()})\n",
    "    return df.plot(x=\"x\", y=[\"gamma\", \"lognormal\"], kind=\"line\", title=\"elbo: \"+str(elbo(loc, scale)))\n",
    "\n",
    "plot_fit(-0.6, 1.1)"
   ]
  },
  {
   "cell_type": "code",
   "execution_count": null,
   "metadata": {},
   "outputs": [],
   "source": [
    "def tf_lognormal_multi_elbo_grad(loc, scale, true_distribution, classical, particle_count):\n",
    "    # A variety of epsilons.\n",
    "    epsilon = tf.constant(np.random.normal(0., 1., particle_count), dtype=tf.float32)\n",
    "    with tf.GradientTape() as g:\n",
    "        tf_loc = tf.constant(loc, dtype=tf.float32)\n",
    "        tf_scale = tf.constant(scale, dtype=tf.float32)\n",
    "        g.watch(tf_loc)\n",
    "        g.watch(tf_scale)\n",
    "        tf_x = tf.math.exp(tf_loc + tf_scale * epsilon)\n",
    "        # This is the log of the full sum of ratios as in the equation just before (7)\n",
    "        # in the 2018 ICLR paper.\n",
    "        if classical:\n",
    "            y = tf.math.log(\n",
    "                tf.math.reduce_sum(\n",
    "                    true_distribution.prob(tf_x)\n",
    "                    / tfp.distributions.LogNormal(loc=tf_loc, scale=tf_scale).prob(tf_x)\n",
    "                )\n",
    "            )\n",
    "        else:\n",
    "            y = (1/particle_count) * tf.math.reduce_sum(\n",
    "                tf.math.log(\n",
    "                    true_distribution.prob(tf_x)\n",
    "                    / tfp.distributions.LogNormal(loc=tf_loc, scale=tf_scale).prob(tf_x)\n",
    "                )\n",
    "            )\n",
    "        x_arr = np.array([tf_x.numpy()]).transpose()\n",
    "        tf_gradient = np.array([grad.numpy() for grad in g.gradient(y, [tf_loc, tf_scale])])\n",
    "    return tf_gradient\n",
    "\n",
    "def gradient_analysis(loc, scale, classical, particle_count, gradient_count):\n",
    "    gradients = np.concatenate([\n",
    "        np.array([tf_lognormal_multi_elbo_grad(loc, scale, gamma, classical, particle_count)]) for _ in range(gradient_count)])\n",
    "    gradients_df = pd.DataFrame(gradients, columns=[\"loc_grad\", \"scale_grad\"])\n",
    "\n",
    "    print(gradients_df.describe())\n",
    "    return alt.Chart(gradients_df).mark_bar().encode(\n",
    "        alt.X(\"loc_grad\", bin=alt.Bin()),\n",
    "        y='count()',\n",
    "    )"
   ]
  },
  {
   "cell_type": "code",
   "execution_count": null,
   "metadata": {},
   "outputs": [],
   "source": [
    "def gradient_ascent(loc, scale, step_size, particle_count, step_count):\n",
    "    elbos = [[loc, scale, elbo(loc, scale)]]\n",
    "    for _ in range(step_count):\n",
    "        grad = tf_lognormal_multi_elbo_grad(loc, scale, gamma, False, 100)\n",
    "        loc += step_size * grad[0]\n",
    "        scale += step_size * grad[1]\n",
    "        elbos.append([loc, scale, elbo(loc, scale)])\n",
    "    return pd.DataFrame(elbos, columns = [\"loc\", \"scale\", \"elbo\"])\n",
    "\n",
    "gradient_results = gradient_ascent(-1.6, 1.1, 0.1, 10, 10)\n",
    "gradient_results[\"elbo\"].plot.line()"
   ]
  },
  {
   "cell_type": "code",
   "execution_count": null,
   "metadata": {},
   "outputs": [],
   "source": [
    "plot_fit(gradient_results.iloc[-1,0], gradient_results.iloc[-1,1])"
   ]
  },
  {
   "cell_type": "code",
   "execution_count": null,
   "metadata": {},
   "outputs": [],
   "source": [
    "plot_fit(-1.6, 0.69)"
   ]
  },
  {
   "cell_type": "code",
   "execution_count": null,
   "metadata": {},
   "outputs": [],
   "source": [
    "gradient_analysis(-1.6, 1.1, True, particle_count = 100, gradient_count = 1000)"
   ]
  },
  {
   "cell_type": "code",
   "execution_count": null,
   "metadata": {},
   "outputs": [],
   "source": [
    "gradient_analysis(-1.6, 1.1, False, particle_count = 100, gradient_count = 1000)"
   ]
  },
  {
   "cell_type": "code",
   "execution_count": null,
   "metadata": {},
   "outputs": [],
   "source": [
    "gradient_analysis(-0.6, 1.1, True, particle_count = 100, gradient_count = 1000)"
   ]
  },
  {
   "cell_type": "code",
   "execution_count": null,
   "metadata": {},
   "outputs": [],
   "source": []
  }
 ],
 "metadata": {
  "kernelspec": {
   "display_name": "Python 3",
   "language": "python",
   "name": "python3"
  },
  "language_info": {
   "codemirror_mode": {
    "name": "ipython",
    "version": 3
   },
   "file_extension": ".py",
   "mimetype": "text/x-python",
   "name": "python",
   "nbconvert_exporter": "python",
   "pygments_lexer": "ipython3",
   "version": "3.7.3"
  }
 },
 "nbformat": 4,
 "nbformat_minor": 2
}
