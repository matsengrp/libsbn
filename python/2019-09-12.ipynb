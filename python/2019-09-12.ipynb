{
 "cells": [
  {
   "cell_type": "code",
   "execution_count": null,
   "metadata": {},
   "outputs": [],
   "source": [
    "import numpy as np\n",
    "import scipy\n",
    "import tensorflow.compat.v2 as tf\n",
    "tf.enable_v2_behavior()\n",
    "import tensorflow_probability as tfp\n",
    "tfd = tfp.distributions"
   ]
  },
  {
   "cell_type": "code",
   "execution_count": null,
   "metadata": {},
   "outputs": [],
   "source": [
    "import altair as alt\n",
    "alt.renderers.enable(\"notebook\")\n",
    "import pandas as pd\n",
    "%matplotlib inline\n",
    "%config InlineBackend.figure_formats = ['svg']"
   ]
  },
  {
   "cell_type": "code",
   "execution_count": null,
   "metadata": {
    "scrolled": true
   },
   "outputs": [],
   "source": [
    "alpha = 2.\n",
    "beta = 5.\n",
    "gamma = tfd.Gamma(concentration=alpha, rate=beta)"
   ]
  },
  {
   "cell_type": "code",
   "execution_count": null,
   "metadata": {},
   "outputs": [],
   "source": [
    "def tf_lognormal_grad(loc, scale, true_distribution, particle_count):\n",
    "    with tf.GradientTape() as g:\n",
    "        tf_loc = tf.constant(loc, dtype=tf.float32)\n",
    "        tf_scale = tf.constant(scale, dtype=tf.float32)\n",
    "        g.watch(tf_loc)\n",
    "        g.watch(tf_scale)\n",
    "        q_distribution = tfp.distributions.LogNormal(loc=tf_loc, scale=tf_scale)\n",
    "        #q_distribution = tfp.distributions.Gamma(concentration=tf_loc, rate=tf_scale)\n",
    "        tf_x = q_distribution.sample(particle_count)\n",
    "        y = (1/particle_count) * tf.math.reduce_sum(\n",
    "            tf.math.log(\n",
    "                true_distribution.prob(tf_x) / q_distribution.prob(tf_x)\n",
    "            )\n",
    "        )\n",
    "        x_arr = np.array([tf_x.numpy()]).transpose()\n",
    "        tf_gradient = np.array([grad.numpy() for grad in g.gradient(y, [tf_loc, tf_scale])])\n",
    "    return tf_gradient"
   ]
  },
  {
   "cell_type": "code",
   "execution_count": null,
   "metadata": {},
   "outputs": [],
   "source": [
    "def tf_gamma_grad(params, true_distribution, particle_count):\n",
    "    with tf.GradientTape() as g:\n",
    "        tf_params = tf.constant(params, dtype=tf.float32)\n",
    "        g.watch(tf_params)\n",
    "        q_distribution = tfp.distributions.Gamma(concentration=tf_params[0], rate=tf_params[1])\n",
    "        tf_x = q_distribution.sample(particle_count)\n",
    "        y = (1/particle_count) * tf.math.reduce_sum(\n",
    "            tf.math.log(\n",
    "                true_distribution.prob(tf_x) / q_distribution.prob(tf_x)\n",
    "            )\n",
    "        )\n",
    "        return g.gradient(y, tf_params).numpy()"
   ]
  },
  {
   "cell_type": "code",
   "execution_count": null,
   "metadata": {},
   "outputs": [],
   "source": [
    "def tf_gamma_grad_alt(params, grad_log_p, particle_count):\n",
    "    \"\"\"\n",
    "    Here you can supply your own grad log p.\n",
    "    \"\"\"\n",
    "    with tf.GradientTape(persistent=True) as g:\n",
    "        tf_params = tf.constant(params, dtype=tf.float32)\n",
    "        g.watch(tf_params)\n",
    "        q_distribution = tfp.distributions.Gamma(concentration=tf_params[0], rate=tf_params[1])\n",
    "        tf_x = q_distribution.sample(particle_count)\n",
    "        q_term = tf.math.reduce_sum(tf.math.log(q_distribution.prob(tf_x)))\n",
    "        x = tf_x.numpy()\n",
    "    grad_log_sum_q = g.gradient(q_term, tf_params).numpy()\n",
    "    grad_x = g.jacobian(tf_x, tf_params).numpy()\n",
    "    result = np.matmul(grad_log_p(x).transpose(), grad_x) - grad_log_sum_q\n",
    "    del g  # Will happen anyway but being explicit to remember.\n",
    "    return result / particle_count"
   ]
  },
  {
   "cell_type": "code",
   "execution_count": null,
   "metadata": {},
   "outputs": [],
   "source": [
    "def grad_log_like(x):\n",
    "    with tf.GradientTape() as g:\n",
    "        tf_x = tf.constant(x, dtype=tf.float32)\n",
    "        g.watch(tf_x)\n",
    "        return g.gradient(gamma.log_prob(tf_x), tf_x).numpy()\n",
    "\n",
    "tf_gamma_grad_alt(np.array([3., 2.]), grad_log_like, 60)"
   ]
  },
  {
   "cell_type": "code",
   "execution_count": null,
   "metadata": {},
   "outputs": [],
   "source": [
    "tf_gamma_grad(np.array([3., 2.]), gamma, 60)"
   ]
  },
  {
   "cell_type": "code",
   "execution_count": null,
   "metadata": {},
   "outputs": [],
   "source": [
    "def gradient_ascent(params, step_size, particle_count, step_count):\n",
    "    params = np.copy(params)\n",
    "    history = []\n",
    "    for _ in range(step_count):\n",
    "        #grad = tf_gamma_grad_alt(params, grad_log_like, particle_count)\n",
    "        grad = tf_gamma_grad(params, gamma, particle_count)\n",
    "        params += step_size * grad\n",
    "        history.append(np.concatenate([np.copy(params), np.copy(grad)]))\n",
    "    return pd.DataFrame(history)"
   ]
  },
  {
   "cell_type": "code",
   "execution_count": null,
   "metadata": {},
   "outputs": [],
   "source": [
    "history = gradient_ascent(np.array([3., 2.]), 0.09, 10000, 60)\n",
    "history.plot.line()"
   ]
  },
  {
   "cell_type": "code",
   "execution_count": null,
   "metadata": {},
   "outputs": [],
   "source": [
    "x_grid = np.linspace(0.01, 2)\n",
    "df = pd.DataFrame({\n",
    "    \"x\": x_grid, \n",
    "    \"gamma\": gamma.prob(x_grid).numpy(), \n",
    "    \"fit\": tfd.Gamma(concentration=history.iloc[-1,0], rate=history.iloc[-1,1]).prob(x_grid).numpy()})\n",
    "df.plot(x=\"x\", y=[\"gamma\", \"fit\"], kind=\"line\")"
   ]
  },
  {
   "cell_type": "code",
   "execution_count": null,
   "metadata": {},
   "outputs": [],
   "source": []
  }
 ],
 "metadata": {
  "kernelspec": {
   "display_name": "Python 3",
   "language": "python",
   "name": "python3"
  },
  "language_info": {
   "codemirror_mode": {
    "name": "ipython",
    "version": 3
   },
   "file_extension": ".py",
   "mimetype": "text/x-python",
   "name": "python",
   "nbconvert_exporter": "python",
   "pygments_lexer": "ipython3",
   "version": "3.7.4"
  }
 },
 "nbformat": 4,
 "nbformat_minor": 2
}
