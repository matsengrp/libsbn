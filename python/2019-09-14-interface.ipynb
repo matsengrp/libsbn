{
 "cells": [
  {
   "cell_type": "code",
   "execution_count": null,
   "metadata": {},
   "outputs": [],
   "source": [
    "import matplotlib.pyplot as plt\n",
    "import numpy as np\n",
    "import pandas as pd\n",
    "import scipy as sp\n",
    "%matplotlib inline\n",
    "#%config InlineBackend.figure_formats = ['svg']\n",
    "\n",
    "import tensorflow.compat.v2 as tf\n",
    "tf.enable_v2_behavior()\n",
    "import tensorflow_probability as tfp\n",
    "tfd = tfp.distributions"
   ]
  },
  {
   "cell_type": "code",
   "execution_count": null,
   "metadata": {},
   "outputs": [],
   "source": [
    "import continuous_parameter_models\n",
    "import optimizers\n",
    "import sbn\n",
    "\n",
    "import importlib \n",
    "importlib.reload(continuous_parameter_models)\n",
    "importlib.reload(optimizers)\n",
    "importlib.reload(sbn)\n",
    "\n",
    "from continuous_parameter_models import TFContinuousParameterModel"
   ]
  },
  {
   "cell_type": "markdown",
   "metadata": {},
   "source": [
    "The following can be used in place of the phylogenetic likelihood for testing."
   ]
  },
  {
   "cell_type": "code",
   "execution_count": null,
   "metadata": {},
   "outputs": [],
   "source": [
    "alpha = 2.\n",
    "beta = 5.\n",
    "gamma = tfd.Gamma(concentration=alpha, rate=beta)\n",
    "\n",
    "def grad_log_like(x):\n",
    "    with tf.GradientTape() as g:\n",
    "        tf_x = tf.constant(x, dtype=tf.float32)\n",
    "        g.watch(tf_x)\n",
    "        return g.gradient(gamma.log_prob(tf_x), tf_x).numpy()\n",
    "\n",
    "def log_like(x):\n",
    "    return gamma.log_prob(x)"
   ]
  },
  {
   "cell_type": "code",
   "execution_count": null,
   "metadata": {},
   "outputs": [],
   "source": [
    "inst = sbn.instance(\"charlie\")\n",
    "data = \"hello\"\n",
    "if data == \"DS1\":\n",
    "    inst.read_newick_file(\"../data/ds1.raxml.tre\")\n",
    "    inst.read_fasta_file('../data/DS1.fasta')\n",
    "    max_x = 0.02\n",
    "elif data == \"hello\":\n",
    "    inst.tree_collection = sbn.TreeCollection(\n",
    "        [sbn.Tree.of_parent_id_vector([3, 3, 3])],\n",
    "        [\"mars\", \"saturn\", \"jupiter\"])\n",
    "    inst.read_fasta_file('../data/hello.fasta')\n",
    "    max_x = 0.4\n",
    "else:\n",
    "    assert False\n",
    "\n",
    "inst.make_beagle_instances(1)\n",
    "branch_lengths_extended = np.array(inst.tree_collection.trees[0].branch_lengths,\n",
    "                          copy=False)\n",
    "# Here we are getting a slice that excludes the last (fake) element. \n",
    "# Thus we can just deal with the actual branch lengths.\n",
    "branch_lengths = branch_lengths_extended[:len(branch_lengths_extended)-1]\n",
    "\n",
    "if data == \"hello\":\n",
    "    branch_lengths_extended[:] = np.array([0.1, 0.1, 0.3, 0.])"
   ]
  },
  {
   "cell_type": "code",
   "execution_count": null,
   "metadata": {},
   "outputs": [],
   "source": [
    "def log_like_with(in_branch_lengths, grad=False):\n",
    "    global branch_lengths\n",
    "    saved_branch_lengths = branch_lengths.copy()\n",
    "    branch_lengths[:] = in_branch_lengths\n",
    "    if grad:\n",
    "        _, log_grad = inst.branch_gradients()[0]\n",
    "        result = np.array(log_grad)\n",
    "    else:\n",
    "        result = np.array(inst.log_likelihoods())[0]\n",
    "        branch_lengths[:] = saved_branch_lengths\n",
    "    return result\n",
    "\n",
    "def phylo_log_like(x_arr):\n",
    "    return np.apply_along_axis(log_like_with, 1, x_arr)\n",
    "\n",
    "def grad_phylo_log_like(x_arr):\n",
    "    return np.apply_along_axis(lambda x: log_like_with(x, grad=True), 1, x_arr)[:,:-2]"
   ]
  },
  {
   "cell_type": "code",
   "execution_count": null,
   "metadata": {},
   "outputs": [],
   "source": [
    "def exponential_factory(params):\n",
    "    return tfd.Exponential(rate=params[:,0])\n",
    "\n",
    "def gamma_factory(params):\n",
    "    return tfd.Gamma(concentration=params[:,0], rate=params[:,1])\n",
    "\n",
    "def inverse_gamma_factory(params):\n",
    "    return tfd.InverseGamma(concentration=params[:,0], scale=params[:,1])\n",
    "\n",
    "def lognormal_factory(params):\n",
    "    return tfd.LogNormal(loc=params[:,0], scale=params[:,1])\n",
    "\n",
    "def truncated_lognormal_factory(params):\n",
    "    exp_shift = tfp.bijectors.Chain(\n",
    "        [tfp.bijectors.AffineScalar(shift=-params[:,2]), tfp.bijectors.Exp()])\n",
    "    return tfd.TransformedDistribution(\n",
    "        distribution=tfd.TruncatedNormal(\n",
    "            loc=params[:,0], \n",
    "            scale=params[:,1], \n",
    "            low=tf.math.log(params[:,2]), high=999), \n",
    "        bijector=exp_shift, \n",
    "        name=\"TruncatedLogNormal\")\n",
    "\n",
    "m = TFContinuousParameterModel(gamma_factory, np.array([1.3, 50.]), len(branch_lengths), 100, step_size=0.1)\n",
    "#m = TFContinuousParameterModel(lognormal_factory, np.array([-2., 0.5]), len(branch_lengths), 5)\n",
    "#m = TFContinuousParameterModel(truncated_lognormal_factory, np.array([-1., 0.5, 0.1]), len(branch_lengths), 100)"
   ]
  },
  {
   "cell_type": "code",
   "execution_count": null,
   "metadata": {},
   "outputs": [],
   "source": [
    "m.plot(phylo_log_like, max_x=max_x)"
   ]
  },
  {
   "cell_type": "code",
   "execution_count": null,
   "metadata": {
    "scrolled": true
   },
   "outputs": [],
   "source": [
    "# %%timeit -n 1\n",
    "\n",
    "history = []\n",
    "for _ in range(400):\n",
    "    m.sample()\n",
    "    m.gradient_step(grad_phylo_log_like(m.x), history)"
   ]
  },
  {
   "cell_type": "code",
   "execution_count": null,
   "metadata": {},
   "outputs": [],
   "source": [
    "m.plot(phylo_log_like, max_x=max_x)"
   ]
  },
  {
   "cell_type": "code",
   "execution_count": null,
   "metadata": {},
   "outputs": [],
   "source": [
    "m.sample()\n",
    "print(m.elbo_gradient_using_current_sample(grad_phylo_log_like(m.x)))\n",
    "m.clear_sample()"
   ]
  },
  {
   "cell_type": "code",
   "execution_count": null,
   "metadata": {},
   "outputs": [],
   "source": []
  }
 ],
 "metadata": {
  "kernelspec": {
   "display_name": "Python 3",
   "language": "python",
   "name": "python3"
  },
  "language_info": {
   "codemirror_mode": {
    "name": "ipython",
    "version": 3
   },
   "file_extension": ".py",
   "mimetype": "text/x-python",
   "name": "python",
   "nbconvert_exporter": "python",
   "pygments_lexer": "ipython3",
   "version": "3.7.4"
  }
 },
 "nbformat": 4,
 "nbformat_minor": 2
}
