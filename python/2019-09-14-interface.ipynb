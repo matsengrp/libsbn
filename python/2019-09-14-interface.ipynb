{
 "cells": [
  {
   "cell_type": "code",
   "execution_count": null,
   "metadata": {},
   "outputs": [],
   "source": [
    "import numpy as np\n",
    "import scipy\n",
    "import tensorflow.compat.v2 as tf\n",
    "tf.enable_v2_behavior()\n",
    "import tensorflow_probability as tfp\n",
    "tfd = tfp.distributions"
   ]
  },
  {
   "cell_type": "code",
   "execution_count": null,
   "metadata": {},
   "outputs": [],
   "source": [
    "import optimizers"
   ]
  },
  {
   "cell_type": "code",
   "execution_count": null,
   "metadata": {},
   "outputs": [],
   "source": [
    "def gamma_factory(params):\n",
    "    return tfp.distributions.Gamma(concentration=params[0], rate=params[1])\n",
    "\n",
    "def lognormal_factory(params):\n",
    "    return tfp.distributions.LogNormal(loc=params[0], scale=params[1])"
   ]
  },
  {
   "cell_type": "code",
   "execution_count": null,
   "metadata": {},
   "outputs": [],
   "source": [
    "alpha = 2.\n",
    "beta = 5.\n",
    "gamma = tfd.Gamma(concentration=alpha, rate=beta)\n",
    "\n",
    "def grad_log_like(x):\n",
    "    with tf.GradientTape() as g:\n",
    "        tf_x = tf.constant(x, dtype=tf.float32)\n",
    "        g.watch(tf_x)\n",
    "        return g.gradient(gamma.log_prob(tf_x), tf_x).numpy()\n",
    "\n",
    "grad_log_like(np.array([0.3,0.2]))"
   ]
  },
  {
   "cell_type": "code",
   "execution_count": null,
   "metadata": {},
   "outputs": [],
   "source": [
    "class TFContinuousParameterModel:\n",
    "    def __init__(self, q_factory, initial_params, params_count, sample_count):\n",
    "        assert initial_params.ndim == 1\n",
    "        self.q_factory = q_factory\n",
    "        #self.param_matrix = np.full((params_count, len(initial_params)), initial_params)\n",
    "        self.param_matrix = np.copy(initial_params)\n",
    "        self.sample_count = sample_count\n",
    "        # The current stored sample.\n",
    "        self.x = None\n",
    "        # The gradient of x with respect to the parameters of q.\n",
    "        self.grad_x = None\n",
    "        # The stochastic gradient of log sum q for x.\n",
    "        self.grad_log_sum_q = None\n",
    "        \n",
    "    \n",
    "    def sample(self):\n",
    "        with tf.GradientTape(persistent=True) as g:\n",
    "            tf_params = tf.constant(self.param_matrix, dtype=tf.float32)\n",
    "            g.watch(tf_params)\n",
    "            q_distribution = self.q_factory(tf_params)\n",
    "            tf_x = q_distribution.sample(self.sample_count)\n",
    "            q_term = tf.math.reduce_sum(tf.math.log(q_distribution.prob(tf_x)))\n",
    "        self.x = tf_x.numpy()\n",
    "        self.grad_x = g.jacobian(tf_x, tf_params).numpy()\n",
    "        self.grad_log_sum_q = g.gradient(q_term, tf_params).numpy()\n",
    "        del g  # Should happen anyway but being explicit to remember.\n",
    "        return self.x\n",
    "    \n",
    "    def elbo_gradient(self, grad_log_p_x): \n",
    "        assert self.grad_x is not None\n",
    "        return np.matmul(grad_log_p_x, self.grad_x) - self.grad_log_sum_q\n",
    "\n",
    "    \n",
    "m = TFContinuousParameterModel(gamma_factory, np.array([2.,1]), 3, 5)\n",
    "print(m.__dict__)\n",
    "x = m.sample()\n",
    "m.elbo_gradient(grad_log_like(x))"
   ]
  }
 ],
 "metadata": {
  "kernelspec": {
   "display_name": "Python 3",
   "language": "python",
   "name": "python3"
  },
  "language_info": {
   "codemirror_mode": {
    "name": "ipython",
    "version": 3
   },
   "file_extension": ".py",
   "mimetype": "text/x-python",
   "name": "python",
   "nbconvert_exporter": "python",
   "pygments_lexer": "ipython3",
   "version": "3.7.4"
  }
 },
 "nbformat": 4,
 "nbformat_minor": 2
}
