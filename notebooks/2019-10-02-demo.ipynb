{
 "cells": [
  {
   "cell_type": "code",
   "execution_count": null,
   "metadata": {},
   "outputs": [],
   "source": [
    "%load_ext rpy2.ipython\n",
    "\n",
    "import vip.benchmark"
   ]
  },
  {
   "cell_type": "code",
   "execution_count": null,
   "metadata": {},
   "outputs": [],
   "source": [
    "opt_trace, fitting_results = vip.benchmark.fixed(\"../_ignore/mb/DS1\", step_count = 10, particle_count = 100)"
   ]
  },
  {
   "cell_type": "code",
   "execution_count": null,
   "metadata": {},
   "outputs": [],
   "source": [
    "%%R -i opt_trace -w 800 -h 400 -u px\n",
    "\n",
    "suppressWarnings(library(\"ggplot2\"))\n",
    "suppressWarnings(library(\"cowplot\"))\n",
    "\n",
    "normal = ggplot(opt_trace) + \n",
    "    theme_minimal() +\n",
    "    geom_line(aes(x=index, y=elbo))\n",
    "\n",
    "zoomed = ggplot(tail(opt_trace, nrow(opt_trace)/3)) + \n",
    "    theme_minimal() +\n",
    "    geom_line(aes(x=index, y=elbo))\n",
    "\n",
    "plot_grid(normal, zoomed, nrow=2)"
   ]
  },
  {
   "cell_type": "code",
   "execution_count": null,
   "metadata": {},
   "outputs": [],
   "source": [
    "%%R -i fitting_results -w 1600 -h 1200 -u px\n",
    "\n",
    "suppressWarnings(library(\"ggplot2\"))\n",
    "suppressWarnings(library(\"cowplot\"))\n",
    "\n",
    "ggplot(fitting_results) + \n",
    "    theme_minimal_grid() +\n",
    "    theme(axis.text.x = element_text(angle = -25)) +\n",
    "    geom_density(aes(value, color=type)) +\n",
    "    facet_wrap(\"variable\", scales=\"free\")"
   ]
  },
  {
   "cell_type": "code",
   "execution_count": null,
   "metadata": {},
   "outputs": [],
   "source": []
  }
 ],
 "metadata": {
  "kernelspec": {
   "display_name": "Python 3",
   "language": "python",
   "name": "python3"
  },
  "language_info": {
   "codemirror_mode": {
    "name": "ipython",
    "version": 3
   },
   "file_extension": ".py",
   "mimetype": "text/x-python",
   "name": "python",
   "nbconvert_exporter": "python",
   "pygments_lexer": "ipython3",
   "version": "3.7.4"
  }
 },
 "nbformat": 4,
 "nbformat_minor": 2
}
